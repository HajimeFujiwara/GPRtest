{
 "cells": [
  {
   "cell_type": "code",
   "execution_count": null,
   "metadata": {},
   "outputs": [],
   "source": [
    "import importlib\n",
    "\n",
    "if importlib.util.find_spec('gpytorch') is None:\n",
    "    !pip install gpytorch\n",
    "else:\n",
    "    print('gpytorch is already installed')\n",
    "\n",
    "import pandas as pd\n",
    "from data_preprocessing import S3DataFrame, DataConverter  # カスタムデータクラス\n",
    "from typing import Callable  # lambda関数での型アノテーション\n",
    "\n",
    "# 必要なライブラリのインポート\n",
    "\n",
    "import torch\n",
    "import time\n",
    "import csv\n",
    "from ../myutil/baseGPR import GPModel\n",
    "from localUtil import mk_data_for_gpr, mk_prediction"
   ]
  },
  {
   "cell_type": "code",
   "execution_count": null,
   "metadata": {},
   "outputs": [],
   "source": [
    "# ファイルの在処\n",
    "bucket_name = 'sharebucket-aiml'\n",
    "object_name = 'dc-to-risk/market/MarketDataForFxModel.csv'\n",
    "\n",
    "s3df = S3DataFrame(bucket_name, object_name)"
   ]
  },
  {
   "cell_type": "code",
   "execution_count": null,
   "metadata": {},
   "outputs": [],
   "source": [
    "# Check if GPU is available\n",
    "device = torch.device('cuda' if torch.cuda.is_available() else 'cpu')\n",
    "print('Using {} device'.format(device))"
   ]
  },
  {
   "cell_type": "code",
   "execution_count": null,
   "metadata": {},
   "outputs": [],
   "source": [
    "# 推定・予測の設定、初期化\n",
    "\n",
    "start_date = '2020-01-01'\n",
    "end_date = '2023-05-10'\n",
    "\n",
    "n_iter = 100\n",
    "\n",
    "# 基本データ　為替は予測対象なのでシフト対象、株式,為替レートは説明変数\n",
    "ndays = 20\n",
    "header_w_shift_list = ['USDJPY']\n",
    "header_wo_shift_list = ['USDJPY', 'NK225', 'SP500']\n",
    "\n",
    "mk_feature_set: Callable[[int], pd.DataFrame] = lambda dt: ['date', f'NK225_Return_{dt}', f'SP500_Return_{dt}', 'NK225VolatilityIndex', 'SPXVolatilityIndex' , f'USDJPY_Return_{dt}', 'USDJPYIV1MATM', 'XI', 'DFd', 'DFf']\n",
    "\n",
    "base_data = DataConverter(s3df=s3df, dt=ndays, feature_set=mk_feature_set(ndays), rtn_set_w_shft=header_w_shift_list, rtn_set_wo_shft=header_wo_shift_list)\n",
    "\n",
    "lossess = []\n",
    "dates = []\n",
    "preds = []\n",
    "probs = []\n",
    "stds = []\n",
    "acts = []\n",
    "\n",
    "seed = 0\n",
    "torch.manual_seed(seed)\n",
    "if torch.cuda.is_available():\n",
    "    torch.cuda.manual_seed_all(seed)\n",
    "# np.random.seed(seed)\n",
    "\n",
    "model_types = [\"RBF\", \"Matern\"]\n",
    "\n",
    "model_type = 1\n",
    "nu = 2.5  # Matern Kernelの自由度"
   ]
  },
  {
   "cell_type": "code",
   "execution_count": null,
   "metadata": {},
   "outputs": [],
   "source": [
    "# gpytorch を使ったガウス過程回帰による推定・予測\n",
    "for base_date in base_data.get_base_dates(start_date, end_date):\n",
    "    start_time = time.time()\n",
    "    train_prem, train_feature, test_feature, test_data = mk_data_for_gpr(base_data, base_date, device)\n",
    "    # データの特徴とターゲットの学習\n",
    "    # モデルの設定\n",
    "    match model_types[model_type]:\n",
    "        case \"RBF\":\n",
    "            model, likelihood, trainer = GPModel.standard_initialize(train_feature, train_prem, device)\n",
    "        case \"Matern\":\n",
    "            model, likelihood, trainer = GPModel.keoops_Matern_initialize(train_feature, train_prem, nu, device)\n",
    "        case _:\n",
    "            raise Exception(\"unexpected mode is specified.\")\n",
    "\n",
    "    # モデルの学習\n",
    "    losses = trainer.train(model, likelihood, train_feature, train_prem, n_iter=n_iter)\n",
    "    lossess.append(losses[-1])\n",
    "\n",
    "    # テストデータに対する予測\n",
    "    mean, varinace = trainer.predict(test_feature[0].view(1, test_feature.shape[1]))\n",
    "    fxrtn_act, fxrtn_mean, fxrtn_std, probability_less_than_x = mk_prediction(mean, varinace, test_data.iloc[0])\n",
    "    dates.append(base_date)\n",
    "    preds.append(fxrtn_mean)\n",
    "    probs.append(probability_less_than_x)\n",
    "    stds.append(fxrtn_std)\n",
    "    acts.append(fxrtn_act)\n",
    "\n",
    "    print(f'{base_date.strftime(\"%Y-%m-%d\")} Learning time: %.3f' % (time.time() - start_time))\n",
    "\n",
    "rst_df = pd.DataFrame({'Date': dates, 'Actual': acts, 'Predict': preds, 'ProbAboveZero': probs, 'Std': stds})\n",
    "\n",
    "print(rst_df)"
   ]
  },
  {
   "cell_type": "code",
   "execution_count": null,
   "metadata": {},
   "outputs": [],
   "source": [
    "# 予測結果の保存\n",
    "rst_df.to_csv(f'rst_{start_date}_{end_date}.csv')\n",
    "\n",
    "# 損失の保存\n",
    "with open(f'損失_{start_date}_{end_date}.csv', 'w', newline='') as f:\n",
    "    writer = csv.writer(f)\n",
    "    # リストを書き込む\n",
    "    writer.writerow(lossess)\n",
    "\n",
    "# numpy配列をpandasのDataFrameに変換します\n",
    "df = pd.DataFrame(train_prem.cpu().numpy())\n",
    "# DataFrameをCSVファイルに保存します\n",
    "df.to_csv('premiums.csv', index=False)\n",
    "\n",
    "# numpy配列をpandasのDataFrameに変換します\n",
    "df = pd.DataFrame(train_feature.cpu().numpy())\n",
    "# DataFrameをCSVファイルに保存します\n",
    "df.to_csv('features.csv', index=False)"
   ]
  }
 ],
 "metadata": {
  "kernelspec": {
   "display_name": "Python 3",
   "language": "python",
   "name": "python3"
  },
  "language_info": {
   "name": "python",
   "version": "3.10.8"
  }
 },
 "nbformat": 4,
 "nbformat_minor": 2
}
