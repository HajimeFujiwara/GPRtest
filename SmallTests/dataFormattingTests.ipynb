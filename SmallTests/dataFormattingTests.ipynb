{
 "cells": [
  {
   "cell_type": "markdown",
   "metadata": {},
   "source": [
    "## t統計量のテスト\n",
    "\n",
    "$X_{t_i} = \\alpha X_{t_{i-1}} + \\varepsilon_{t_i}$\n",
    "\n",
    "帰無仮説 $\\alpha = 1$\n",
    "\n",
    "観測データを用いて t統計量を計算する\n",
    "\n",
    "$$\n",
    "\\begin{align*}\n",
    "\\hat{u}_i &= X_{t_i} - \\hat{X}_{t_i} \\\\\n",
    "\\bar{X} &= \\sum_{i=1}^{N-1} \\\\\n",
    "S_{XX} &= \\sum_{i=1}^N (X_{t_i} - \\bar{X})^2\n",
    "\\end{align*}\n",
    "$$\n"
   ]
  },
  {
   "cell_type": "code",
   "execution_count": 6,
   "metadata": {},
   "outputs": [
    {
     "name": "stdout",
     "output_type": "stream",
     "text": [
      "['TOPIX業種別株価指数 - 金属製品 過去データ (1).csv', 'TOPIX業種別株価指数 - 空運業 過去データ (1).csv', 'TOPIX業種別株価指数 - 食料品 過去データ.csv', 'TOPIX業種別株価指数 - 化学 過去データ (1).csv', 'TOPIX業種別株価指数 - 石油 - 石炭製品 過去データ.csv', 'TOPIX業種別株価指数 - その他金融業 過去データ (1).csv', 'TOPIX業種別株価指数 - 建設業 過去データ.csv', 'TOPIX業種別株価指数 - パルプ - 紙 過去データ (1).csv', 'TOPIX業種別株価指数 - サービス業 過去データ (1).csv', 'TOPIX業種別株価指数 - 電気機器 過去データ (1).csv', 'USD_JPY 過去データ (1).csv', 'TOPIX業種別株価指数 - 機械 過去データ (1).csv', 'CBOE Volatility Index 過去データ.csv', 'TOPIX業種別株価指数 - 海運業 過去データ (1).csv', 'TOPIX業種別株価指数 - ガラス - 土石製品 過去データ (1).csv', 'TOPIX業種別株価指数 - ゴム製品 過去データ.csv', 'TOPIX業種別株価指数 - 輸送用機器 過去データ.csv', 'TOPIX業種別株価指数 - 金属製品 過去データ.csv', 'TOPIX業種別株価指数 - 石油 - 石炭製品 過去データ (1).csv', 'TOPIX業種別株価指数 - 保険業 過去データ.csv', 'TOPIX業種別株価指数 - 銀行業 過去データ.csv', 'TOPIX業種別株価指数 - 水産・農林業 過去データ (1).csv', 'TOPIX業種別株価指数 - 精密機器 過去データ.csv', 'CBOE Volatility Index 過去データ (1).csv', 'TOPIX業種別株価指数 - 医薬品 過去データ (1).csv', 'TOPIX業種別株価指数 - 空運業 過去データ.csv', 'TOPIX業種別株価指数 - 輸送用機器 過去データ (1).csv', 'TOPIX業種別株価指数 - 電気 - ガス業 過去データ (1).csv', 'TOPIX業種別株価指数 - 機械 過去データ.csv', 'TOPIX業種別株価指数 - 不動産業 過去データ (1).csv', 'TOPIX業種別株価指数 - サービス業 過去データ.csv', 'TOPIX業種別株価指数 - 精密機器 過去データ (1).csv', 'TOPIX業種別株価指数 - 不動産業 過去データ.csv', 'TOPIX業種別株価指数 - その他製品 過去データ.csv', 'TOPIX業種別株価指数 - 化学 過去データ.csv', 'TOPIX業種別株価指数 - 陸運業 過去データ.csv', 'TOPIX業種別株価指数 - 情報 - 通信業 過去データ (1).csv', 'TOPIX業種別株価指数 - 非鉄金属 過去データ.csv', 'TOPIX業種別株価指数 - 電気機器 過去データ.csv', 'TOPIX業種別株価指数 - 情報 - 通信業 過去データ.csv', 'TOPIX業種別株価指数 - 医薬品 過去データ.csv', 'TOPIX業種別株価指数 - 鉱業 過去データ.csv', 'TOPIX業種別株価指数 - 銀行業 過去データ (1).csv', 'TOPIX業種別株価指数 - 卸売業 過去データ (1).csv', 'USD_JPY 過去データ.csv', 'TOPIX業種別株価指数 - ガラス - 土石製品 過去データ.csv', 'TOPIX業種別株価指数 - パルプ - 紙 過去データ.csv', 'TOPIX業種別株価指数 - 保険業 過去データ (1).csv', 'TOPIX業種別株価指数 - 陸運業 過去データ (1).csv', 'TOPIX業種別株価指数 - 建設業 過去データ (1).csv', 'TOPIX業種別株価指数 - 小売業 過去データ (1).csv', 'TOPIX業種別株価指数 - 水産・農林業 過去データ.csv', 'TOPIX業種別株価指数 - 食料品 過去データ (1).csv', 'TOPIX業種別株価指数 - 鉄鋼 過去データ (1).csv', 'TOPIX業種別株価指数 - 海運業 過去データ.csv', 'TOPIX業種別株価指数 - その他製品 過去データ (1).csv', 'TOPIX業種別株価指数 - 非鉄金属 過去データ (1).csv', 'TOPIX業種別株価指数 - その他金融業 過去データ.csv', 'TOPIX業種別株価指数 - 小売業 過去データ.csv', 'TOPIX業種別株価指数 - 鉄鋼 過去データ.csv', 'TOPIX業種別株価指数 - 電気 - ガス業 過去データ.csv', 'TOPIX業種別株価指数 - 卸売業 過去データ.csv', 'TOPIX業種別株価指数 - 鉱業 過去データ (1).csv', 'TOPIX業種別株価指数 - ゴム製品 過去データ (1).csv']\n",
      "TOPIX業種別株価指数 - 金属製品 過去データ (1).csv\n",
      "TOPIX業種別株価指数 - 金属製品 過去データ.csv\n",
      "TOPIX業種別株価指数 - 空運業 過去データ (1).csv\n",
      "TOPIX業種別株価指数 - 空運業 過去データ.csv\n",
      "TOPIX業種別株価指数 - 化学 過去データ (1).csv\n",
      "TOPIX業種別株価指数 - 化学 過去データ.csv\n",
      "TOPIX業種別株価指数 - その他金融業 過去データ (1).csv\n",
      "TOPIX業種別株価指数 - その他金融業 過去データ.csv\n",
      "TOPIX業種別株価指数 - パルプ - 紙 過去データ (1).csv\n",
      "TOPIX業種別株価指数 - パルプ - 紙 過去データ.csv\n",
      "TOPIX業種別株価指数 - サービス業 過去データ (1).csv\n",
      "TOPIX業種別株価指数 - サービス業 過去データ.csv\n",
      "TOPIX業種別株価指数 - 電気機器 過去データ (1).csv\n",
      "TOPIX業種別株価指数 - 電気機器 過去データ.csv\n",
      "USD_JPY 過去データ (1).csv\n",
      "USD_JPY 過去データ.csv\n",
      "TOPIX業種別株価指数 - 機械 過去データ (1).csv\n",
      "TOPIX業種別株価指数 - 機械 過去データ.csv\n",
      "TOPIX業種別株価指数 - 海運業 過去データ (1).csv\n",
      "TOPIX業種別株価指数 - 海運業 過去データ.csv\n",
      "TOPIX業種別株価指数 - ガラス - 土石製品 過去データ (1).csv\n",
      "TOPIX業種別株価指数 - ガラス - 土石製品 過去データ.csv\n",
      "TOPIX業種別株価指数 - 石油 - 石炭製品 過去データ (1).csv\n",
      "TOPIX業種別株価指数 - 石油 - 石炭製品 過去データ.csv\n",
      "TOPIX業種別株価指数 - 水産・農林業 過去データ (1).csv\n",
      "TOPIX業種別株価指数 - 水産・農林業 過去データ.csv\n",
      "CBOE Volatility Index 過去データ (1).csv\n",
      "CBOE Volatility Index 過去データ.csv\n",
      "TOPIX業種別株価指数 - 医薬品 過去データ (1).csv\n",
      "TOPIX業種別株価指数 - 医薬品 過去データ.csv\n",
      "TOPIX業種別株価指数 - 輸送用機器 過去データ (1).csv\n",
      "TOPIX業種別株価指数 - 輸送用機器 過去データ.csv\n",
      "TOPIX業種別株価指数 - 電気 - ガス業 過去データ (1).csv\n",
      "TOPIX業種別株価指数 - 電気 - ガス業 過去データ.csv\n",
      "TOPIX業種別株価指数 - 不動産業 過去データ (1).csv\n",
      "TOPIX業種別株価指数 - 不動産業 過去データ.csv\n",
      "TOPIX業種別株価指数 - 精密機器 過去データ (1).csv\n",
      "TOPIX業種別株価指数 - 精密機器 過去データ.csv\n",
      "TOPIX業種別株価指数 - 情報 - 通信業 過去データ (1).csv\n",
      "TOPIX業種別株価指数 - 情報 - 通信業 過去データ.csv\n",
      "TOPIX業種別株価指数 - 銀行業 過去データ (1).csv\n",
      "TOPIX業種別株価指数 - 銀行業 過去データ.csv\n",
      "TOPIX業種別株価指数 - 卸売業 過去データ (1).csv\n",
      "TOPIX業種別株価指数 - 卸売業 過去データ.csv\n",
      "TOPIX業種別株価指数 - 保険業 過去データ (1).csv\n",
      "TOPIX業種別株価指数 - 保険業 過去データ.csv\n",
      "TOPIX業種別株価指数 - 陸運業 過去データ (1).csv\n",
      "TOPIX業種別株価指数 - 陸運業 過去データ.csv\n",
      "TOPIX業種別株価指数 - 建設業 過去データ (1).csv\n",
      "TOPIX業種別株価指数 - 建設業 過去データ.csv\n",
      "TOPIX業種別株価指数 - 小売業 過去データ (1).csv\n",
      "TOPIX業種別株価指数 - 小売業 過去データ.csv\n",
      "TOPIX業種別株価指数 - 食料品 過去データ (1).csv\n",
      "TOPIX業種別株価指数 - 食料品 過去データ.csv\n",
      "TOPIX業種別株価指数 - 鉄鋼 過去データ (1).csv\n",
      "TOPIX業種別株価指数 - 鉄鋼 過去データ.csv\n",
      "TOPIX業種別株価指数 - その他製品 過去データ (1).csv\n",
      "TOPIX業種別株価指数 - その他製品 過去データ.csv\n",
      "TOPIX業種別株価指数 - 非鉄金属 過去データ (1).csv\n",
      "TOPIX業種別株価指数 - 非鉄金属 過去データ.csv\n",
      "TOPIX業種別株価指数 - 鉱業 過去データ (1).csv\n",
      "TOPIX業種別株価指数 - 鉱業 過去データ.csv\n",
      "TOPIX業種別株価指数 - ゴム製品 過去データ (1).csv\n",
      "TOPIX業種別株価指数 - ゴム製品 過去データ.csv\n"
     ]
    }
   ],
   "source": [
    "import os\n",
    "import pandas as pd\n",
    "\n",
    "# フォルダーのパスを指定する\n",
    "folder_path = \"/workspaces/GPRtest/MarketData\"\n",
    "\n",
    "# フォルダー内のcsvファイルの一覧を取得する\n",
    "csv_files = [f for f in os.listdir(folder_path) if f.endswith('.csv')]\n",
    "print(csv_files)\n",
    "# ファイル名に \"(1)\" が含まれる場合は、対応する \"(0)\" ファイルをマージする\n",
    "merged_df = pd.DataFrame()\n",
    "for csv_file in csv_files:\n",
    "    #print(csv_file)\n",
    "    if \"(1)\" in csv_file:\n",
    "        base_file = csv_file.replace(\" (1)\", \"\")\n",
    "        print(csv_file)\n",
    "        print(base_file)\n",
    "        if base_file in csv_files:\n",
    "            df1 = pd.read_csv(os.path.join(folder_path, base_file))\n",
    "            df2 = pd.read_csv(os.path.join(folder_path, csv_file))\n",
    "            merged_df = pd.concat([merged_df, df2, df1], ignore_index=True)\n",
    "            merged_file = base_file.replace(\".csv\", \"_merged.csv\")\n",
    "            merged_df.to_csv(os.path.join(folder_path, merged_file), index=False)\n"
   ]
  },
  {
   "cell_type": "markdown",
   "metadata": {},
   "source": [
    "\n",
    "\n",
    "上記のコードは、指定されたフォルダー内のcsvファイルの一覧を取得し、base_fileがxxx.csvの場合にmerged_fileをxxx_merged.csvとして保存する処理を行います。フォルダーのパスは `folder_path` 変数に指定してください。マージしたデータは `merged_df` 変数に格納され、`merged_df.to_csv(os.path.join(folder_path, merged_file), index=False)` でCSVファイルとして保存されます。"
   ]
  }
 ],
 "metadata": {
  "kernelspec": {
   "display_name": "Python 3",
   "language": "python",
   "name": "python3"
  },
  "language_info": {
   "codemirror_mode": {
    "name": "ipython",
    "version": 3
   },
   "file_extension": ".py",
   "mimetype": "text/x-python",
   "name": "python",
   "nbconvert_exporter": "python",
   "pygments_lexer": "ipython3",
   "version": "3.10.8"
  },
  "orig_nbformat": 4
 },
 "nbformat": 4,
 "nbformat_minor": 2
}
