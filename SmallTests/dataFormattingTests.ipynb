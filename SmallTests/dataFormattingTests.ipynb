{
 "cells": [
  {
   "cell_type": "markdown",
   "metadata": {},
   "source": [
    "## t統計量のテスト\n",
    "\n",
    "$X_{t_i} = \\alpha X_{t_{i-1}} + \\varepsilon_{t_i}$\n",
    "\n",
    "帰無仮説 $\\alpha = 1$\n",
    "\n",
    "観測データを用いて t統計量を計算する\n",
    "\n",
    "$$\n",
    "\\begin{align*}\n",
    "\\hat{u}_i &= X_{t_i} - \\hat{X}_{t_i} \\\\\n",
    "\\bar{X} &= \\sum_{i=1}^{N-1} \\\\\n",
    "S_{XX} &= \\sum_{i=1}^N (X_{t_i} - \\bar{X})^2\n",
    "\\end{align*}\n",
    "$$\n"
   ]
  },
  {
   "cell_type": "markdown",
   "metadata": {},
   "source": [
    "\n",
    "\n",
    "上記のコードは、指定されたフォルダー内のcsvファイルの一覧を取得し、base_fileがxxx.csvの場合にmerged_fileをxxx_merged.csvとして保存する処理を行います。フォルダーのパスは `folder_path` 変数に指定してください。マージしたデータは `merged_df` 変数に格納され、`merged_df.to_csv(os.path.join(folder_path, merged_file), index=False)` でCSVファイルとして保存されます。"
   ]
  },
  {
   "cell_type": "markdown",
   "metadata": {},
   "source": [
    "以下のように、`os.path.exists()`関数を使って、`*_merged.csv`ファイルが存在する場合は削除する処理を追加することができます。\n",
    "\n"
   ]
  },
  {
   "cell_type": "code",
   "execution_count": 1,
   "metadata": {},
   "outputs": [
    {
     "name": "stdout",
     "output_type": "stream",
     "text": [
      "['TOPIX業種別株価指数 - 金属製品 過去データ (1).csv', 'TOPIX業種別株価指数 - 空運業 過去データ (1).csv', 'TOPIX業種別株価指数 - 化学 過去データ (1).csv', 'TOPIX業種別株価指数 - その他金融業 過去データ (1).csv', 'TOPIX業種別株価指数 - パルプ - 紙 過去データ (1).csv', 'TOPIX業種別株価指数 - サービス業 過去データ (1).csv', 'TOPIX業種別株価指数 - 電気機器 過去データ (1).csv', 'USD_JPY 過去データ (1).csv', 'TOPIX業種別株価指数 - 機械 過去データ (1).csv', 'TOPIX業種別株価指数 - 海運業 過去データ (1).csv', 'TOPIX業種別株価指数 - ガラス - 土石製品 過去データ (1).csv', 'TOPIX業種別株価指数 - 石油 - 石炭製品 過去データ (1).csv', 'TOPIX業種別株価指数 - 水産・農林業 過去データ (1).csv', 'CBOE Volatility Index 過去データ (1).csv', 'TOPIX業種別株価指数 - 医薬品 過去データ (1).csv', 'TOPIX業種別株価指数 - 輸送用機器 過去データ (1).csv', 'TOPIX業種別株価指数 - 電気 - ガス業 過去データ (1).csv', 'TOPIX業種別株価指数 - 不動産業 過去データ (1).csv', 'TOPIX業種別株価指数 - 精密機器 過去データ (1).csv', 'TOPIX業種別株価指数 - 情報 - 通信業 過去データ (1).csv', 'TOPIX業種別株価指数 - 銀行業 過去データ (1).csv', 'TOPIX業種別株価指数 - 卸売業 過去データ (1).csv', 'TOPIX業種別株価指数 - 保険業 過去データ (1).csv', 'TOPIX業種別株価指数 - 陸運業 過去データ (1).csv', 'TOPIX業種別株価指数 - 建設業 過去データ (1).csv', 'TOPIX業種別株価指数 - 小売業 過去データ (1).csv', 'TOPIX業種別株価指数 - 食料品 過去データ (1).csv', 'TOPIX業種別株価指数 - 鉄鋼 過去データ (1).csv', 'TOPIX業種別株価指数 - その他製品 過去データ (1).csv', 'TOPIX業種別株価指数 - 非鉄金属 過去データ (1).csv', 'TOPIX業種別株価指数 - 鉱業 過去データ (1).csv', 'TOPIX業種別株価指数 - ゴム製品 過去データ (1).csv']\n"
     ]
    },
    {
     "name": "stderr",
     "output_type": "stream",
     "text": [
      "/tmp/ipykernel_73697/917330618.py:26: ParserWarning: Both a converter and dtype were specified for column 終値 - only the converter will be used.\n",
      "  df1 = pd.read_csv(os.path.join(folder_path, base_file), dtype={\"日付け\": str, \"終値\": str}, converters={\"終値\": convert_to_float})\n",
      "/tmp/ipykernel_73697/917330618.py:27: ParserWarning: Both a converter and dtype were specified for column 終値 - only the converter will be used.\n",
      "  df2 = pd.read_csv(os.path.join(folder_path, csv_file), dtype={\"日付け\": str, \"終値\": str}, converters={\"終値\": convert_to_float})\n",
      "/tmp/ipykernel_73697/917330618.py:26: ParserWarning: Both a converter and dtype were specified for column 終値 - only the converter will be used.\n",
      "  df1 = pd.read_csv(os.path.join(folder_path, base_file), dtype={\"日付け\": str, \"終値\": str}, converters={\"終値\": convert_to_float})\n",
      "/tmp/ipykernel_73697/917330618.py:27: ParserWarning: Both a converter and dtype were specified for column 終値 - only the converter will be used.\n",
      "  df2 = pd.read_csv(os.path.join(folder_path, csv_file), dtype={\"日付け\": str, \"終値\": str}, converters={\"終値\": convert_to_float})\n",
      "/tmp/ipykernel_73697/917330618.py:26: ParserWarning: Both a converter and dtype were specified for column 終値 - only the converter will be used.\n",
      "  df1 = pd.read_csv(os.path.join(folder_path, base_file), dtype={\"日付け\": str, \"終値\": str}, converters={\"終値\": convert_to_float})\n",
      "/tmp/ipykernel_73697/917330618.py:27: ParserWarning: Both a converter and dtype were specified for column 終値 - only the converter will be used.\n",
      "  df2 = pd.read_csv(os.path.join(folder_path, csv_file), dtype={\"日付け\": str, \"終値\": str}, converters={\"終値\": convert_to_float})\n",
      "/tmp/ipykernel_73697/917330618.py:26: ParserWarning: Both a converter and dtype were specified for column 終値 - only the converter will be used.\n",
      "  df1 = pd.read_csv(os.path.join(folder_path, base_file), dtype={\"日付け\": str, \"終値\": str}, converters={\"終値\": convert_to_float})\n",
      "/tmp/ipykernel_73697/917330618.py:27: ParserWarning: Both a converter and dtype were specified for column 終値 - only the converter will be used.\n",
      "  df2 = pd.read_csv(os.path.join(folder_path, csv_file), dtype={\"日付け\": str, \"終値\": str}, converters={\"終値\": convert_to_float})\n",
      "/tmp/ipykernel_73697/917330618.py:26: ParserWarning: Both a converter and dtype were specified for column 終値 - only the converter will be used.\n",
      "  df1 = pd.read_csv(os.path.join(folder_path, base_file), dtype={\"日付け\": str, \"終値\": str}, converters={\"終値\": convert_to_float})\n",
      "/tmp/ipykernel_73697/917330618.py:27: ParserWarning: Both a converter and dtype were specified for column 終値 - only the converter will be used.\n",
      "  df2 = pd.read_csv(os.path.join(folder_path, csv_file), dtype={\"日付け\": str, \"終値\": str}, converters={\"終値\": convert_to_float})\n",
      "/tmp/ipykernel_73697/917330618.py:26: ParserWarning: Both a converter and dtype were specified for column 終値 - only the converter will be used.\n",
      "  df1 = pd.read_csv(os.path.join(folder_path, base_file), dtype={\"日付け\": str, \"終値\": str}, converters={\"終値\": convert_to_float})\n",
      "/tmp/ipykernel_73697/917330618.py:27: ParserWarning: Both a converter and dtype were specified for column 終値 - only the converter will be used.\n",
      "  df2 = pd.read_csv(os.path.join(folder_path, csv_file), dtype={\"日付け\": str, \"終値\": str}, converters={\"終値\": convert_to_float})\n",
      "/tmp/ipykernel_73697/917330618.py:26: ParserWarning: Both a converter and dtype were specified for column 終値 - only the converter will be used.\n",
      "  df1 = pd.read_csv(os.path.join(folder_path, base_file), dtype={\"日付け\": str, \"終値\": str}, converters={\"終値\": convert_to_float})\n",
      "/tmp/ipykernel_73697/917330618.py:27: ParserWarning: Both a converter and dtype were specified for column 終値 - only the converter will be used.\n",
      "  df2 = pd.read_csv(os.path.join(folder_path, csv_file), dtype={\"日付け\": str, \"終値\": str}, converters={\"終値\": convert_to_float})\n",
      "/tmp/ipykernel_73697/917330618.py:26: ParserWarning: Both a converter and dtype were specified for column 終値 - only the converter will be used.\n",
      "  df1 = pd.read_csv(os.path.join(folder_path, base_file), dtype={\"日付け\": str, \"終値\": str}, converters={\"終値\": convert_to_float})\n",
      "/tmp/ipykernel_73697/917330618.py:27: ParserWarning: Both a converter and dtype were specified for column 終値 - only the converter will be used.\n",
      "  df2 = pd.read_csv(os.path.join(folder_path, csv_file), dtype={\"日付け\": str, \"終値\": str}, converters={\"終値\": convert_to_float})\n",
      "/tmp/ipykernel_73697/917330618.py:26: ParserWarning: Both a converter and dtype were specified for column 終値 - only the converter will be used.\n",
      "  df1 = pd.read_csv(os.path.join(folder_path, base_file), dtype={\"日付け\": str, \"終値\": str}, converters={\"終値\": convert_to_float})\n",
      "/tmp/ipykernel_73697/917330618.py:27: ParserWarning: Both a converter and dtype were specified for column 終値 - only the converter will be used.\n",
      "  df2 = pd.read_csv(os.path.join(folder_path, csv_file), dtype={\"日付け\": str, \"終値\": str}, converters={\"終値\": convert_to_float})\n",
      "/tmp/ipykernel_73697/917330618.py:26: ParserWarning: Both a converter and dtype were specified for column 終値 - only the converter will be used.\n",
      "  df1 = pd.read_csv(os.path.join(folder_path, base_file), dtype={\"日付け\": str, \"終値\": str}, converters={\"終値\": convert_to_float})\n",
      "/tmp/ipykernel_73697/917330618.py:27: ParserWarning: Both a converter and dtype were specified for column 終値 - only the converter will be used.\n",
      "  df2 = pd.read_csv(os.path.join(folder_path, csv_file), dtype={\"日付け\": str, \"終値\": str}, converters={\"終値\": convert_to_float})\n",
      "/tmp/ipykernel_73697/917330618.py:26: ParserWarning: Both a converter and dtype were specified for column 終値 - only the converter will be used.\n",
      "  df1 = pd.read_csv(os.path.join(folder_path, base_file), dtype={\"日付け\": str, \"終値\": str}, converters={\"終値\": convert_to_float})\n",
      "/tmp/ipykernel_73697/917330618.py:27: ParserWarning: Both a converter and dtype were specified for column 終値 - only the converter will be used.\n",
      "  df2 = pd.read_csv(os.path.join(folder_path, csv_file), dtype={\"日付け\": str, \"終値\": str}, converters={\"終値\": convert_to_float})\n",
      "/tmp/ipykernel_73697/917330618.py:26: ParserWarning: Both a converter and dtype were specified for column 終値 - only the converter will be used.\n",
      "  df1 = pd.read_csv(os.path.join(folder_path, base_file), dtype={\"日付け\": str, \"終値\": str}, converters={\"終値\": convert_to_float})\n",
      "/tmp/ipykernel_73697/917330618.py:27: ParserWarning: Both a converter and dtype were specified for column 終値 - only the converter will be used.\n",
      "  df2 = pd.read_csv(os.path.join(folder_path, csv_file), dtype={\"日付け\": str, \"終値\": str}, converters={\"終値\": convert_to_float})\n",
      "/tmp/ipykernel_73697/917330618.py:26: ParserWarning: Both a converter and dtype were specified for column 終値 - only the converter will be used.\n",
      "  df1 = pd.read_csv(os.path.join(folder_path, base_file), dtype={\"日付け\": str, \"終値\": str}, converters={\"終値\": convert_to_float})\n",
      "/tmp/ipykernel_73697/917330618.py:27: ParserWarning: Both a converter and dtype were specified for column 終値 - only the converter will be used.\n",
      "  df2 = pd.read_csv(os.path.join(folder_path, csv_file), dtype={\"日付け\": str, \"終値\": str}, converters={\"終値\": convert_to_float})\n",
      "/tmp/ipykernel_73697/917330618.py:26: ParserWarning: Both a converter and dtype were specified for column 終値 - only the converter will be used.\n",
      "  df1 = pd.read_csv(os.path.join(folder_path, base_file), dtype={\"日付け\": str, \"終値\": str}, converters={\"終値\": convert_to_float})\n",
      "/tmp/ipykernel_73697/917330618.py:27: ParserWarning: Both a converter and dtype were specified for column 終値 - only the converter will be used.\n",
      "  df2 = pd.read_csv(os.path.join(folder_path, csv_file), dtype={\"日付け\": str, \"終値\": str}, converters={\"終値\": convert_to_float})\n",
      "/tmp/ipykernel_73697/917330618.py:26: ParserWarning: Both a converter and dtype were specified for column 終値 - only the converter will be used.\n",
      "  df1 = pd.read_csv(os.path.join(folder_path, base_file), dtype={\"日付け\": str, \"終値\": str}, converters={\"終値\": convert_to_float})\n",
      "/tmp/ipykernel_73697/917330618.py:27: ParserWarning: Both a converter and dtype were specified for column 終値 - only the converter will be used.\n",
      "  df2 = pd.read_csv(os.path.join(folder_path, csv_file), dtype={\"日付け\": str, \"終値\": str}, converters={\"終値\": convert_to_float})\n",
      "/tmp/ipykernel_73697/917330618.py:26: ParserWarning: Both a converter and dtype were specified for column 終値 - only the converter will be used.\n",
      "  df1 = pd.read_csv(os.path.join(folder_path, base_file), dtype={\"日付け\": str, \"終値\": str}, converters={\"終値\": convert_to_float})\n",
      "/tmp/ipykernel_73697/917330618.py:27: ParserWarning: Both a converter and dtype were specified for column 終値 - only the converter will be used.\n",
      "  df2 = pd.read_csv(os.path.join(folder_path, csv_file), dtype={\"日付け\": str, \"終値\": str}, converters={\"終値\": convert_to_float})\n",
      "/tmp/ipykernel_73697/917330618.py:26: ParserWarning: Both a converter and dtype were specified for column 終値 - only the converter will be used.\n",
      "  df1 = pd.read_csv(os.path.join(folder_path, base_file), dtype={\"日付け\": str, \"終値\": str}, converters={\"終値\": convert_to_float})\n",
      "/tmp/ipykernel_73697/917330618.py:27: ParserWarning: Both a converter and dtype were specified for column 終値 - only the converter will be used.\n",
      "  df2 = pd.read_csv(os.path.join(folder_path, csv_file), dtype={\"日付け\": str, \"終値\": str}, converters={\"終値\": convert_to_float})\n",
      "/tmp/ipykernel_73697/917330618.py:26: ParserWarning: Both a converter and dtype were specified for column 終値 - only the converter will be used.\n",
      "  df1 = pd.read_csv(os.path.join(folder_path, base_file), dtype={\"日付け\": str, \"終値\": str}, converters={\"終値\": convert_to_float})\n",
      "/tmp/ipykernel_73697/917330618.py:27: ParserWarning: Both a converter and dtype were specified for column 終値 - only the converter will be used.\n",
      "  df2 = pd.read_csv(os.path.join(folder_path, csv_file), dtype={\"日付け\": str, \"終値\": str}, converters={\"終値\": convert_to_float})\n",
      "/tmp/ipykernel_73697/917330618.py:26: ParserWarning: Both a converter and dtype were specified for column 終値 - only the converter will be used.\n",
      "  df1 = pd.read_csv(os.path.join(folder_path, base_file), dtype={\"日付け\": str, \"終値\": str}, converters={\"終値\": convert_to_float})\n",
      "/tmp/ipykernel_73697/917330618.py:27: ParserWarning: Both a converter and dtype were specified for column 終値 - only the converter will be used.\n",
      "  df2 = pd.read_csv(os.path.join(folder_path, csv_file), dtype={\"日付け\": str, \"終値\": str}, converters={\"終値\": convert_to_float})\n",
      "/tmp/ipykernel_73697/917330618.py:26: ParserWarning: Both a converter and dtype were specified for column 終値 - only the converter will be used.\n",
      "  df1 = pd.read_csv(os.path.join(folder_path, base_file), dtype={\"日付け\": str, \"終値\": str}, converters={\"終値\": convert_to_float})\n",
      "/tmp/ipykernel_73697/917330618.py:27: ParserWarning: Both a converter and dtype were specified for column 終値 - only the converter will be used.\n",
      "  df2 = pd.read_csv(os.path.join(folder_path, csv_file), dtype={\"日付け\": str, \"終値\": str}, converters={\"終値\": convert_to_float})\n",
      "/tmp/ipykernel_73697/917330618.py:26: ParserWarning: Both a converter and dtype were specified for column 終値 - only the converter will be used.\n",
      "  df1 = pd.read_csv(os.path.join(folder_path, base_file), dtype={\"日付け\": str, \"終値\": str}, converters={\"終値\": convert_to_float})\n",
      "/tmp/ipykernel_73697/917330618.py:27: ParserWarning: Both a converter and dtype were specified for column 終値 - only the converter will be used.\n",
      "  df2 = pd.read_csv(os.path.join(folder_path, csv_file), dtype={\"日付け\": str, \"終値\": str}, converters={\"終値\": convert_to_float})\n",
      "/tmp/ipykernel_73697/917330618.py:26: ParserWarning: Both a converter and dtype were specified for column 終値 - only the converter will be used.\n",
      "  df1 = pd.read_csv(os.path.join(folder_path, base_file), dtype={\"日付け\": str, \"終値\": str}, converters={\"終値\": convert_to_float})\n",
      "/tmp/ipykernel_73697/917330618.py:27: ParserWarning: Both a converter and dtype were specified for column 終値 - only the converter will be used.\n",
      "  df2 = pd.read_csv(os.path.join(folder_path, csv_file), dtype={\"日付け\": str, \"終値\": str}, converters={\"終値\": convert_to_float})\n",
      "/tmp/ipykernel_73697/917330618.py:26: ParserWarning: Both a converter and dtype were specified for column 終値 - only the converter will be used.\n",
      "  df1 = pd.read_csv(os.path.join(folder_path, base_file), dtype={\"日付け\": str, \"終値\": str}, converters={\"終値\": convert_to_float})\n",
      "/tmp/ipykernel_73697/917330618.py:27: ParserWarning: Both a converter and dtype were specified for column 終値 - only the converter will be used.\n",
      "  df2 = pd.read_csv(os.path.join(folder_path, csv_file), dtype={\"日付け\": str, \"終値\": str}, converters={\"終値\": convert_to_float})\n",
      "/tmp/ipykernel_73697/917330618.py:26: ParserWarning: Both a converter and dtype were specified for column 終値 - only the converter will be used.\n",
      "  df1 = pd.read_csv(os.path.join(folder_path, base_file), dtype={\"日付け\": str, \"終値\": str}, converters={\"終値\": convert_to_float})\n",
      "/tmp/ipykernel_73697/917330618.py:27: ParserWarning: Both a converter and dtype were specified for column 終値 - only the converter will be used.\n",
      "  df2 = pd.read_csv(os.path.join(folder_path, csv_file), dtype={\"日付け\": str, \"終値\": str}, converters={\"終値\": convert_to_float})\n",
      "/tmp/ipykernel_73697/917330618.py:26: ParserWarning: Both a converter and dtype were specified for column 終値 - only the converter will be used.\n",
      "  df1 = pd.read_csv(os.path.join(folder_path, base_file), dtype={\"日付け\": str, \"終値\": str}, converters={\"終値\": convert_to_float})\n",
      "/tmp/ipykernel_73697/917330618.py:27: ParserWarning: Both a converter and dtype were specified for column 終値 - only the converter will be used.\n",
      "  df2 = pd.read_csv(os.path.join(folder_path, csv_file), dtype={\"日付け\": str, \"終値\": str}, converters={\"終値\": convert_to_float})\n",
      "/tmp/ipykernel_73697/917330618.py:26: ParserWarning: Both a converter and dtype were specified for column 終値 - only the converter will be used.\n",
      "  df1 = pd.read_csv(os.path.join(folder_path, base_file), dtype={\"日付け\": str, \"終値\": str}, converters={\"終値\": convert_to_float})\n",
      "/tmp/ipykernel_73697/917330618.py:27: ParserWarning: Both a converter and dtype were specified for column 終値 - only the converter will be used.\n",
      "  df2 = pd.read_csv(os.path.join(folder_path, csv_file), dtype={\"日付け\": str, \"終値\": str}, converters={\"終値\": convert_to_float})\n",
      "/tmp/ipykernel_73697/917330618.py:26: ParserWarning: Both a converter and dtype were specified for column 終値 - only the converter will be used.\n",
      "  df1 = pd.read_csv(os.path.join(folder_path, base_file), dtype={\"日付け\": str, \"終値\": str}, converters={\"終値\": convert_to_float})\n",
      "/tmp/ipykernel_73697/917330618.py:27: ParserWarning: Both a converter and dtype were specified for column 終値 - only the converter will be used.\n",
      "  df2 = pd.read_csv(os.path.join(folder_path, csv_file), dtype={\"日付け\": str, \"終値\": str}, converters={\"終値\": convert_to_float})\n",
      "/tmp/ipykernel_73697/917330618.py:26: ParserWarning: Both a converter and dtype were specified for column 終値 - only the converter will be used.\n",
      "  df1 = pd.read_csv(os.path.join(folder_path, base_file), dtype={\"日付け\": str, \"終値\": str}, converters={\"終値\": convert_to_float})\n",
      "/tmp/ipykernel_73697/917330618.py:27: ParserWarning: Both a converter and dtype were specified for column 終値 - only the converter will be used.\n",
      "  df2 = pd.read_csv(os.path.join(folder_path, csv_file), dtype={\"日付け\": str, \"終値\": str}, converters={\"終値\": convert_to_float})\n",
      "/tmp/ipykernel_73697/917330618.py:26: ParserWarning: Both a converter and dtype were specified for column 終値 - only the converter will be used.\n",
      "  df1 = pd.read_csv(os.path.join(folder_path, base_file), dtype={\"日付け\": str, \"終値\": str}, converters={\"終値\": convert_to_float})\n",
      "/tmp/ipykernel_73697/917330618.py:27: ParserWarning: Both a converter and dtype were specified for column 終値 - only the converter will be used.\n",
      "  df2 = pd.read_csv(os.path.join(folder_path, csv_file), dtype={\"日付け\": str, \"終値\": str}, converters={\"終値\": convert_to_float})\n",
      "/tmp/ipykernel_73697/917330618.py:26: ParserWarning: Both a converter and dtype were specified for column 終値 - only the converter will be used.\n",
      "  df1 = pd.read_csv(os.path.join(folder_path, base_file), dtype={\"日付け\": str, \"終値\": str}, converters={\"終値\": convert_to_float})\n",
      "/tmp/ipykernel_73697/917330618.py:27: ParserWarning: Both a converter and dtype were specified for column 終値 - only the converter will be used.\n",
      "  df2 = pd.read_csv(os.path.join(folder_path, csv_file), dtype={\"日付け\": str, \"終値\": str}, converters={\"終値\": convert_to_float})\n",
      "/tmp/ipykernel_73697/917330618.py:26: ParserWarning: Both a converter and dtype were specified for column 終値 - only the converter will be used.\n",
      "  df1 = pd.read_csv(os.path.join(folder_path, base_file), dtype={\"日付け\": str, \"終値\": str}, converters={\"終値\": convert_to_float})\n",
      "/tmp/ipykernel_73697/917330618.py:27: ParserWarning: Both a converter and dtype were specified for column 終値 - only the converter will be used.\n",
      "  df2 = pd.read_csv(os.path.join(folder_path, csv_file), dtype={\"日付け\": str, \"終値\": str}, converters={\"終値\": convert_to_float})\n",
      "/tmp/ipykernel_73697/917330618.py:26: ParserWarning: Both a converter and dtype were specified for column 終値 - only the converter will be used.\n",
      "  df1 = pd.read_csv(os.path.join(folder_path, base_file), dtype={\"日付け\": str, \"終値\": str}, converters={\"終値\": convert_to_float})\n",
      "/tmp/ipykernel_73697/917330618.py:27: ParserWarning: Both a converter and dtype were specified for column 終値 - only the converter will be used.\n",
      "  df2 = pd.read_csv(os.path.join(folder_path, csv_file), dtype={\"日付け\": str, \"終値\": str}, converters={\"終値\": convert_to_float})\n"
     ]
    }
   ],
   "source": [
    "import os\n",
    "import pandas as pd\n",
    "\n",
    "# フォルダーのパスを指定する\n",
    "folder_path = \"/workspaces/GPRtest/MarketData\"\n",
    "\n",
    "# フォルダー内のcsvファイルの一覧を取得する\n",
    "csv_files = [f for f in os.listdir(folder_path) if f.endswith('(1).csv')]\n",
    "print(csv_files)\n",
    "# ファイル名に \"(1)\" が含まれる場合は、対応する \"(0)\" ファイルをマージする\n",
    "\n",
    "def convert_to_float(value):\n",
    "    if isinstance(value, str):\n",
    "        value = value.replace(',', '')\n",
    "    return float(value)\n",
    "\n",
    "for csv_file in csv_files:\n",
    "    if \"(1)\" in csv_file:\n",
    "        base_file = csv_file.replace(\" (1)\", \"\")\n",
    "        # マージ後のファイル名\n",
    "        merged_file = base_file.replace(\".csv\", \"_merged.csv\")\n",
    "        # マージ後のファイルが存在する場合は削除する\n",
    "        if os.path.exists(os.path.join(folder_path, merged_file)):\n",
    "            os.remove(os.path.join(folder_path, merged_file))\n",
    "        # ファイルをマージする\n",
    "        df1 = pd.read_csv(os.path.join(folder_path, base_file), dtype={\"日付け\": str, \"終値\": str}, converters={\"終値\": convert_to_float})\n",
    "        df2 = pd.read_csv(os.path.join(folder_path, csv_file), dtype={\"日付け\": str, \"終値\": str}, converters={\"終値\": convert_to_float})\n",
    "        merged_df = pd.DataFrame()\n",
    "        merged_df = pd.concat([merged_df, df2, df1], ignore_index=True)\n",
    "        merged_df.to_csv(os.path.join(folder_path, merged_file), index=False)"
   ]
  },
  {
   "cell_type": "markdown",
   "metadata": {},
   "source": [
    "以下のように、Pandasライブラリを使ってDataFrameを作成し、データを追加していくことができます。\n",
    "\n"
   ]
  },
  {
   "cell_type": "code",
   "execution_count": 11,
   "metadata": {},
   "outputs": [],
   "source": [
    "import pandas as pd\n",
    "\n",
    "file_names = [\"電気機器\", \"輸送用機器\", \"情報 - 通信業\", \"卸売業\", \"銀行業\", \"化学\", \"小売業\"]\n",
    "data = pd.DataFrame()\n",
    "\n",
    "# Read data from each file and add to DataFrame\n",
    "for name in file_names:\n",
    "    file_path = f\"/workspaces/GPRtest/MarketData/TOPIX業種別株価指数 - {name} 過去データ_merged.csv\"\n",
    "    df = pd.read_csv(file_path, usecols=[\"日付け\", \"終値\"])\n",
    "    df = df.rename(columns={\"日付け\": \"日付\", \"終値\": f\"終値({name})\"})\n",
    "    if data.empty:\n",
    "        data = df\n",
    "    else:\n",
    "        data = pd.merge(data, df, on=\"日付\", how=\"outer\")\n",
    "\n",
    "# Write data to SectorIndicesData.csv\n",
    "data.to_csv(\"/workspaces/GPRtest/MarketData/SectorIndicesData.csv\", index=False)"
   ]
  },
  {
   "cell_type": "markdown",
   "metadata": {},
   "source": [
    "ご指摘ありがとうございます。確かに、データを降順にソートする必要がない場合は、`ascending=True`に設定することで、昇順にソートすることができます。以下のように修正することができます。\n",
    "\n"
   ]
  },
  {
   "cell_type": "code",
   "execution_count": null,
   "metadata": {},
   "outputs": [],
   "source": [
    "import pandas as pd\n",
    "\n",
    "# Read data from SectorIndicesData.csv\n",
    "data = pd.read_csv(\"/workspaces/GPRtest/MarketData/SectorIndicesData.csv\")\n",
    "\n",
    "# Sort data by date in ascending order\n",
    "data = data.sort_values(by=\"日付\", ascending=True)\n",
    "\n",
    "# Calculate returns for each column\n",
    "returns = data.iloc[:, 1:].pct_change()\n",
    "\n",
    "# Add date column to returns\n",
    "returns.insert(0, \"日付\", data[\"日付\"])\n",
    "\n",
    "# Write returns to ReturnsData.csv\n",
    "returns.to_csv(\"/workspaces/GPRtest/MarketData/ReturnsData.csv\", index=False)\n",
    "data.to_csv(\"/workspaces/GPRtest/MarketData/SectorIndicesData2.csv\", index=False)"
   ]
  },
  {
   "cell_type": "markdown",
   "metadata": {},
   "source": [
    "\n",
    "\n",
    "このようにすることで、データを昇順にソートして、正しい変化率を計算することができます。"
   ]
  },
  {
   "cell_type": "code",
   "execution_count": 2,
   "metadata": {},
   "outputs": [
    {
     "name": "stdout",
     "output_type": "stream",
     "text": [
      "        電気機器     輸送用機器  情報 - 通信業       卸売業       銀行業        化学       小売業\n",
      "0  124097989  84851947  78293225  52528910  51996653  48436307  45044086\n"
     ]
    }
   ],
   "source": [
    "import pandas as pd\n",
    "\n",
    "header = [\"電気機器\", \"輸送用機器\", \"情報 - 通信業\", \"卸売業\", \"銀行業\", \"化学\", \"小売業\"]\n",
    "data = [124097989, 84851947, 78293225, 52528910, 51996653, 48436307, 45044086]\n",
    "\n",
    "df = pd.DataFrame([data], columns=header)\n",
    "df.to_csv(\"/workspaces/GPRtest/MarketData/MarketCap.csv\", index=False)\n",
    "print(df)"
   ]
  }
 ],
 "metadata": {
  "kernelspec": {
   "display_name": "Python 3",
   "language": "python",
   "name": "python3"
  },
  "language_info": {
   "codemirror_mode": {
    "name": "ipython",
    "version": 3
   },
   "file_extension": ".py",
   "mimetype": "text/x-python",
   "name": "python",
   "nbconvert_exporter": "python",
   "pygments_lexer": "ipython3",
   "version": "3.10.8"
  },
  "orig_nbformat": 4
 },
 "nbformat": 4,
 "nbformat_minor": 2
}
