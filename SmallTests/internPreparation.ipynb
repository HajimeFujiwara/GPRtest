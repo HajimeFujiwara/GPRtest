{
 "cells": [
  {
   "cell_type": "markdown",
   "metadata": {},
   "source": [
    "2012年1月1日以降のデータで平均と分散共分散行列を求めるには、以下のように`pd.read_csv()`関数で`ReturnsData.csv`ファイルを読み込み、`loc`属性を使って2012年1月1日以降のデータを抽出し、`mean()`メソッドと`cov()`メソッドを使って平均と分散共分散行列を求めることができます。\n",
    "\n"
   ]
  },
  {
   "cell_type": "code",
   "execution_count": 190,
   "metadata": {},
   "outputs": [],
   "source": [
    "import pandas as pd\n",
    "import numpy as np\n",
    "\n",
    "# Read data from ReturnsData.csv\n",
    "returns = pd.read_csv(\"/workspaces/GPRtest/MarketData/ReturnsData.csv\")\n",
    "\n",
    "# Convert 日付 column to datetime type\n",
    "returns[\"日付\"] = pd.to_datetime(returns[\"日付\"])\n",
    "\n",
    "# Set 日付 column as index\n",
    "returns = returns.set_index(\"日付\")\n",
    "\n",
    "# Exclude data before 2012-01-01\n",
    "start_date = \"2000-01-01\"\n",
    "returns = returns.loc[start_date:]\n",
    "\n",
    "# Calculate mean returns for each column (annualized)\n",
    "mean_returns = returns.mean() * 252\n",
    "\n",
    "mean_returns.to_csv(f\"/workspaces/GPRtest/MarketData/mean_returns{start_date}.csv\")\n",
    "\n",
    "# Calculate covariance matrix for returns (annualized)\n",
    "cov_matrix = returns.cov() * 252\n",
    "cov_matrix.to_csv(f\"/workspaces/GPRtest/MarketData/cov_matrix{start_date}.csv\") \n",
    "\n",
    "# Calculate correlation matrix for returns\n",
    "corr_matrix = returns.corr()\n",
    "corr_matrix.to_csv(f\"/workspaces/GPRtest/MarketData/corr_matrix{start_date}.csv\")\n",
    "\n",
    "# print(\"Mean returns (annualized):\")\n",
    "# print(mean_returns)\n",
    "\n",
    "# print(\"Covariance matrix (annualized):\")\n",
    "# print(cov_matrix)\n",
    "\n",
    "# print(\"Correlation matrix:\")\n",
    "# print(corr_matrix)\n"
   ]
  },
  {
   "cell_type": "markdown",
   "metadata": {},
   "source": [
    "\n",
    "\n",
    "このようにすることで、`ReturnsData.csv`ファイルから2012年1月1日以降のデータを抽出し、年率の平均と分散共分散行列を求めることができます。"
   ]
  },
  {
   "cell_type": "code",
   "execution_count": 191,
   "metadata": {},
   "outputs": [
    {
     "name": "stderr",
     "output_type": "stream",
     "text": [
      "/tmp/ipykernel_23380/1341591377.py:3: FutureWarning: Calling float on a single element Series is deprecated and will raise a TypeError in the future. Use float(ser.iloc[0]) instead\n",
      "  market_cap_ratio = market_cap/float(market_cap.sum(axis=1))\n"
     ]
    }
   ],
   "source": [
    "#　Read data from MarketCap.csv\n",
    "market_cap = pd.read_csv(\"/workspaces/GPRtest/MarketData/MarketCap.csv\")\n",
    "market_cap_ratio = market_cap/float(market_cap.sum(axis=1))"
   ]
  },
  {
   "cell_type": "markdown",
   "metadata": {},
   "source": [
    "#### Markowitz解\n",
    "$$\n",
    "\\mu_m = a \\Sigma \\omega_m\n",
    "$$"
   ]
  },
  {
   "cell_type": "code",
   "execution_count": 192,
   "metadata": {},
   "outputs": [
    {
     "name": "stdout",
     "output_type": "stream",
     "text": [
      "<class 'numpy.ndarray'>\n",
      "(7, 1)\n",
      "[[0.03726031]\n",
      " [0.07797926]\n",
      " [0.02428742]\n",
      " [0.07208445]\n",
      " [0.0213689 ]\n",
      " [0.06692769]\n",
      " [0.02485173]]\n"
     ]
    }
   ],
   "source": [
    "a = 1.5 # risk aversion parameter\n",
    "mu1 = a*(cov_matrix.values).dot((market_cap_ratio.values).T)   # mean returns (annualized)\n",
    "mu2 = (mean_returns.values).reshape(-1,1)\n",
    "print(type(mu2))\n",
    "print(mu2.shape)\n",
    "print(mu2)"
   ]
  },
  {
   "cell_type": "markdown",
   "metadata": {},
   "source": [
    "### 最適ポートフォリオ：無リスク資産がない場合\n",
    "補助変数の導入\n",
    "$$\n",
    "\\begin{align*}\n",
    "A &= \\mathbb{1}' \\Sigma^{-1} \\mathbb{1}  \\\\\n",
    "B &= \\mu' \\Sigma^{-1} \\mathbb{1} \\\\\n",
    "C &= \\mu' \\Sigma^{-1} \\mu\n",
    "\\end{align*}\n",
    "$$\n",
    "未定定数の計算\n",
    "$$\n",
    "\\begin{align*}\n",
    "\\lambda_1 &= \\frac{A \\mu_p - B}{AC - B^2} \\\\\n",
    "\\lambda_2 &= \\frac{C - B \\mu_p}{AC - B^2}\n",
    "\\end{align*}\n",
    "$$\n",
    "ポートフォリオの重みと標準偏差\n",
    "$$\n",
    "\\begin{align*}\n",
    "\\omega_p &= \\lambda_1 \\Sigma^{-1} \\mu + \\lambda_2 \\Sigma^{-1} \\mathbb{1}  \\\\\n",
    "\\sigma_p &= \\sqrt{\\omega_p' \\Sigma \\omega_p}\n",
    "\\end{align*}\n",
    "$$"
   ]
  },
  {
   "cell_type": "code",
   "execution_count": 193,
   "metadata": {},
   "outputs": [],
   "source": [
    "mu = mu1\n",
    "vo = np.ones((len(mu),1)) # vector of ones\n",
    "Sig = cov_matrix.values # covariance matrix (annualized)\n",
    "A = (np.dot(vo.T, np.linalg.inv(Sig))).dot(vo) # a scalar\n",
    "B = (np.dot(mu.T, np.linalg.inv(Sig))).dot(vo) # a scalar\n",
    "C = (np.dot(mu.T, np.linalg.inv(Sig))).dot(mu) # a scalar\n",
    "\n",
    "# 未定乗数の計算\n",
    "lambda1 = lambda mup: (A*mup-B)/(A*C-B**2)\n",
    "lambda2 = lambda mup: (C-B*mup)/(A*C-B**2)\n",
    "\n",
    "# ポートフォリオの重みの計算\n",
    "w = lambda mup: lambda1(mup)*np.linalg.inv(Sig).dot(mu)+lambda2(mup)*np.linalg.inv(Sig).dot(vo)\n",
    "\n",
    "# ポートフォリオの標準偏差の計算\n",
    "sigp = lambda mup: np.sqrt(w(mup).T.dot(Sig).dot(w(mup)))"
   ]
  },
  {
   "cell_type": "code",
   "execution_count": null,
   "metadata": {},
   "outputs": [],
   "source": [
    "# Create Array from 0.01 to 0.04 with a step size 0.001\n",
    "mups = np.arange(0.01, 0.3, 0.001)\n",
    "\n",
    "# Calculate portfolio weights and portfolio volatility for each mup\n",
    "weights = []\n",
    "volatility = []\n",
    "for mup in mups:\n",
    "    weights.append(w(mup).tolist())\n",
    "    volatility.append(sigp(mup)[0])\n",
    "\n",
    "print(weights[50])\n",
    "print(len(weights[0]))\n",
    "print(type(volatility[0]))\n",
    "# mupsとvolatilityのグラフを作成\n",
    "\n",
    "import matplotlib.pyplot as plt\n",
    "\n",
    "plt.plot(volatility, mups)  # x軸をvolatility, y軸をmupsとしてプロット\n",
    "plt.xlabel(\"volatility\")\n",
    "plt.ylabel(\"expected return\")\n",
    "plt.grid(True)\n",
    "plt.show()"
   ]
  },
  {
   "cell_type": "markdown",
   "metadata": {},
   "source": [
    "###  無リスク資産がある場合\n",
    "$$\n",
    "\\begin{align*}\n",
    "\\lambda &= \\frac{\\mu_p - r_f}{(\\mu - r_f \\mathbb{1})' \\Sigma^{-1} (\\mu - r_f \\mathbb{1})}    \\\\ \n",
    "\\omega_p &= \\lambda \\Sigma^{-1} (\\mu - r_f \\mathbb{1}) \\\\\n",
    "\\sigma_p &= \\sqrt{\\omega_p' \\Sigma \\omega_p}\n",
    "\\end{align*}\n",
    "$$"
   ]
  },
  {
   "cell_type": "code",
   "execution_count": null,
   "metadata": {},
   "outputs": [],
   "source": [
    "rf = 0.01 # risk free rate\n",
    "lambda1 = lambda mup: (mup-rf)/((mu-rf*vo).T.dot(np.linalg.inv(Sig)).dot(mu-rf*vo)) # 未定乗数の計算\n",
    "wf = lambda mup: lambda1(mup)*np.linalg.inv(Sig).dot(mu-rf*vo) # ポートフォリオの重みの計算\n",
    "sigfp = lambda mup: np.sqrt(wf(mup).T.dot(Sig).dot(wf(mup))) # ポートフォリオの標準偏差の計算\n",
    "\n",
    "# Calculate portfolio weights and portfolio volatility for each mup\n",
    "weightfs = []\n",
    "volatilityfs = []\n",
    "for mup in mups:\n",
    "    weightfs.append(wf(mup).tolist())\n",
    "    volatilityfs.append(sigfp(mup)[0])\n",
    "\n",
    "# mupsとvolatilityfsのグラフを作成\n",
    "import matplotlib.pyplot as plt\n",
    "plt.plot(volatility, mups)  # x軸をvolatility, y軸をmupsとしてプロット\n",
    "plt.plot(volatilityfs, mups)  # x軸をvolatilityfs, y軸をmupsとしてプロット\n",
    "plt.xlabel(\"volatility\")\n",
    "plt.ylabel(\"expected return\")\n",
    "plt.grid(True)\n",
    "plt.show()"
   ]
  },
  {
   "cell_type": "markdown",
   "metadata": {},
   "source": [
    "### Black-Littermanモデル\n",
    "$$\n",
    "\\begin{align*}\n",
    "G &= (F' \\Omega^{-1} F + (\\tau \\Sigma)^{-1})^{-1} \\\\\n",
    "H &= F' \\Omega^{-1} r_v + (\\tau \\Sigma)^{-1} \\mu \n",
    "\\end{align*}\n",
    "$$\n",
    "$F$はviewを表す行列,$r_v$はviewの期待値を表すベクトル,$\\Omega$はviewの共分散行列を表す行列,$\\tau$は事前分布の分散・共分散に対する調整パラメータです。\n",
    "事後分布の共分散は$G$で、事後分布の平均は$GH$で表されます。"
   ]
  }
 ],
 "metadata": {
  "kernelspec": {
   "display_name": "Python 3",
   "language": "python",
   "name": "python3"
  },
  "language_info": {
   "codemirror_mode": {
    "name": "ipython",
    "version": 3
   },
   "file_extension": ".py",
   "mimetype": "text/x-python",
   "name": "python",
   "nbconvert_exporter": "python",
   "pygments_lexer": "ipython3",
   "version": "3.10.8"
  }
 },
 "nbformat": 4,
 "nbformat_minor": 2
}
